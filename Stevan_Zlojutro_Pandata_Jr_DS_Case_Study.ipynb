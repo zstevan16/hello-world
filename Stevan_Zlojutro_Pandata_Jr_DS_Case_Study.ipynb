{
 "cells": [
  {
   "cell_type": "markdown",
   "metadata": {},
   "source": [
    "# Stevan Zlojutro - April 13, 2021"
   ]
  },
  {
   "cell_type": "markdown",
   "metadata": {},
   "source": [
    "# Case Study: Junior Data Scientist "
   ]
  },
  {
   "cell_type": "markdown",
   "metadata": {},
   "source": [
    "You are a Data Scientist for Wine Corp. Wine Corp is a leading retailer for wines in the United States. The company has long depended on brick and mortar stores but is exploring avenues to grow its online revenue. Specifically, Wine Corp is creating a subscription service for its wines. To facilitate adoption, and differentiate themselves in the market, they want to develop a recommender system to recommend wines based on other wines that a customer has enjoyed. You have been tasked with prototyping a recommender system.\n",
    "\n",
    "This Jupyter Notebook file is pre-populated with functions that can be used to generate a recommender system. Please record your answers in this Notebook file and upload to a private GitHub repository. Please add “harnson” to the private GitHub repo. "
   ]
  },
  {
   "cell_type": "markdown",
   "metadata": {},
   "source": [
    "## Part 1\n",
    "####  We have provided an adapted version of a publicly available dataset, scraped from WineEnthusiast. Perform basic Exploratory Data Analysis (EDA) on this data and summarize your observations.\n",
    "#### Explore 2-3 aspects of the dataset. Communicate key observations with appropriate data visualizations.\n",
    "#### Show all work"
   ]
  },
  {
   "cell_type": "code",
   "execution_count": 1,
   "metadata": {},
   "outputs": [],
   "source": [
    "import pandas as pd\n",
    "import numpy as np\n",
    "import matplotlib.pyplot as plt"
   ]
  },
  {
   "cell_type": "code",
   "execution_count": 2,
   "metadata": {
    "scrolled": true
   },
   "outputs": [],
   "source": [
    "# first, import the data set \n",
    "df_path = 'wine_data_set.csv' ## fill in with your path for the wine data set\n",
    "df = pd.read_csv(df_path)"
   ]
  },
  {
   "cell_type": "code",
   "execution_count": 3,
   "metadata": {},
   "outputs": [
    {
     "data": {
      "text/html": [
       "<div>\n",
       "<style scoped>\n",
       "    .dataframe tbody tr th:only-of-type {\n",
       "        vertical-align: middle;\n",
       "    }\n",
       "\n",
       "    .dataframe tbody tr th {\n",
       "        vertical-align: top;\n",
       "    }\n",
       "\n",
       "    .dataframe thead th {\n",
       "        text-align: right;\n",
       "    }\n",
       "</style>\n",
       "<table border=\"1\" class=\"dataframe\">\n",
       "  <thead>\n",
       "    <tr style=\"text-align: right;\">\n",
       "      <th></th>\n",
       "      <th>wine_idx</th>\n",
       "      <th>points</th>\n",
       "      <th>price</th>\n",
       "    </tr>\n",
       "  </thead>\n",
       "  <tbody>\n",
       "    <tr>\n",
       "      <td>count</td>\n",
       "      <td>10000.00000</td>\n",
       "      <td>10000.000000</td>\n",
       "      <td>9257.000000</td>\n",
       "    </tr>\n",
       "    <tr>\n",
       "      <td>mean</td>\n",
       "      <td>4999.50000</td>\n",
       "      <td>88.454800</td>\n",
       "      <td>34.340391</td>\n",
       "    </tr>\n",
       "    <tr>\n",
       "      <td>std</td>\n",
       "      <td>2886.89568</td>\n",
       "      <td>3.014244</td>\n",
       "      <td>42.126092</td>\n",
       "    </tr>\n",
       "    <tr>\n",
       "      <td>min</td>\n",
       "      <td>0.00000</td>\n",
       "      <td>80.000000</td>\n",
       "      <td>-24.000000</td>\n",
       "    </tr>\n",
       "    <tr>\n",
       "      <td>25%</td>\n",
       "      <td>2499.75000</td>\n",
       "      <td>86.000000</td>\n",
       "      <td>16.000000</td>\n",
       "    </tr>\n",
       "    <tr>\n",
       "      <td>50%</td>\n",
       "      <td>4999.50000</td>\n",
       "      <td>88.000000</td>\n",
       "      <td>25.000000</td>\n",
       "    </tr>\n",
       "    <tr>\n",
       "      <td>75%</td>\n",
       "      <td>7499.25000</td>\n",
       "      <td>91.000000</td>\n",
       "      <td>42.000000</td>\n",
       "    </tr>\n",
       "    <tr>\n",
       "      <td>max</td>\n",
       "      <td>9999.00000</td>\n",
       "      <td>100.000000</td>\n",
       "      <td>1000.000000</td>\n",
       "    </tr>\n",
       "  </tbody>\n",
       "</table>\n",
       "</div>"
      ],
      "text/plain": [
       "          wine_idx        points        price\n",
       "count  10000.00000  10000.000000  9257.000000\n",
       "mean    4999.50000     88.454800    34.340391\n",
       "std     2886.89568      3.014244    42.126092\n",
       "min        0.00000     80.000000   -24.000000\n",
       "25%     2499.75000     86.000000    16.000000\n",
       "50%     4999.50000     88.000000    25.000000\n",
       "75%     7499.25000     91.000000    42.000000\n",
       "max     9999.00000    100.000000  1000.000000"
      ]
     },
     "execution_count": 3,
     "metadata": {},
     "output_type": "execute_result"
    }
   ],
   "source": [
    "df.describe()"
   ]
  },
  {
   "cell_type": "code",
   "execution_count": 4,
   "metadata": {},
   "outputs": [],
   "source": [
    "# changing all negative prices to positive\n",
    "# fill all NaN prices with the average price\n",
    "\n",
    "df['price'] = df['price'].abs()\n",
    "df['price'] = df['price'].fillna(34.34)"
   ]
  },
  {
   "cell_type": "code",
   "execution_count": 5,
   "metadata": {},
   "outputs": [
    {
     "data": {
      "text/plain": [
       "wine_idx                    0\n",
       "country                     3\n",
       "description                 0\n",
       "designation              2933\n",
       "points                      0\n",
       "price                       0\n",
       "province                    3\n",
       "region_1                 1596\n",
       "region_2                 6042\n",
       "taster_name              2031\n",
       "taster_twitter_handle    2408\n",
       "title                       0\n",
       "variety                     0\n",
       "winery                      0\n",
       "dtype: int64"
      ]
     },
     "execution_count": 5,
     "metadata": {},
     "output_type": "execute_result"
    }
   ],
   "source": [
    "df.isnull().sum()"
   ]
  },
  {
   "cell_type": "code",
   "execution_count": 6,
   "metadata": {},
   "outputs": [
    {
     "data": {
      "text/plain": [
       "wine_idx                 10000\n",
       "country                     34\n",
       "description               9943\n",
       "designation               5349\n",
       "points                      21\n",
       "price                      188\n",
       "province                   238\n",
       "region_1                   737\n",
       "region_2                    17\n",
       "taster_name                 18\n",
       "taster_twitter_handle       14\n",
       "title                     9933\n",
       "variety                    348\n",
       "winery                    5531\n",
       "dtype: int64"
      ]
     },
     "execution_count": 6,
     "metadata": {},
     "output_type": "execute_result"
    }
   ],
   "source": [
    "df.nunique()"
   ]
  },
  {
   "cell_type": "code",
   "execution_count": 7,
   "metadata": {},
   "outputs": [
    {
     "data": {
      "text/html": [
       "<div>\n",
       "<style scoped>\n",
       "    .dataframe tbody tr th:only-of-type {\n",
       "        vertical-align: middle;\n",
       "    }\n",
       "\n",
       "    .dataframe tbody tr th {\n",
       "        vertical-align: top;\n",
       "    }\n",
       "\n",
       "    .dataframe thead th {\n",
       "        text-align: right;\n",
       "    }\n",
       "</style>\n",
       "<table border=\"1\" class=\"dataframe\">\n",
       "  <thead>\n",
       "    <tr style=\"text-align: right;\">\n",
       "      <th></th>\n",
       "      <th>wine_idx</th>\n",
       "      <th>country</th>\n",
       "      <th>description</th>\n",
       "      <th>designation</th>\n",
       "      <th>points</th>\n",
       "      <th>price</th>\n",
       "      <th>province</th>\n",
       "      <th>region_1</th>\n",
       "      <th>region_2</th>\n",
       "      <th>taster_name</th>\n",
       "      <th>taster_twitter_handle</th>\n",
       "      <th>title</th>\n",
       "      <th>variety</th>\n",
       "      <th>winery</th>\n",
       "    </tr>\n",
       "  </thead>\n",
       "  <tbody>\n",
       "    <tr>\n",
       "      <td>0</td>\n",
       "      <td>0</td>\n",
       "      <td>Spain</td>\n",
       "      <td>With damp earth and crusty leather aromas, thi...</td>\n",
       "      <td>RSV 1601 El Duque de Lerma</td>\n",
       "      <td>88</td>\n",
       "      <td>75.0</td>\n",
       "      <td>Northern Spain</td>\n",
       "      <td>Ribera del Duero</td>\n",
       "      <td>NaN</td>\n",
       "      <td>Michael Schachner</td>\n",
       "      <td>@wineschach</td>\n",
       "      <td>Real Sitio de Ventosilla 2004 RSV 1601 El Duqu...</td>\n",
       "      <td>Tempranillo</td>\n",
       "      <td>Real Sitio de Ventosilla</td>\n",
       "    </tr>\n",
       "    <tr>\n",
       "      <td>1</td>\n",
       "      <td>1</td>\n",
       "      <td>US</td>\n",
       "      <td>A really nice sparkling wine from Gloria Ferre...</td>\n",
       "      <td>Brut Rosé</td>\n",
       "      <td>91</td>\n",
       "      <td>42.0</td>\n",
       "      <td>California</td>\n",
       "      <td>Carneros</td>\n",
       "      <td>Napa-Sonoma</td>\n",
       "      <td>NaN</td>\n",
       "      <td>NaN</td>\n",
       "      <td>Gloria Ferrer 2007 Brut Rosé Sparkling (Carneros)</td>\n",
       "      <td>Sparkling Blend</td>\n",
       "      <td>Gloria Ferrer</td>\n",
       "    </tr>\n",
       "    <tr>\n",
       "      <td>2</td>\n",
       "      <td>2</td>\n",
       "      <td>US</td>\n",
       "      <td>Mostly Cabernet, with a bit of Merlot and Malb...</td>\n",
       "      <td>Electrum</td>\n",
       "      <td>90</td>\n",
       "      <td>65.0</td>\n",
       "      <td>Washington</td>\n",
       "      <td>Red Mountain</td>\n",
       "      <td>Columbia Valley</td>\n",
       "      <td>Paul Gregutt</td>\n",
       "      <td>@paulgwine</td>\n",
       "      <td>Obelisco Estate 2009 Electrum Cabernet Sauvign...</td>\n",
       "      <td>Cabernet Sauvignon</td>\n",
       "      <td>Obelisco Estate</td>\n",
       "    </tr>\n",
       "  </tbody>\n",
       "</table>\n",
       "</div>"
      ],
      "text/plain": [
       "   wine_idx country                                        description  \\\n",
       "0         0   Spain  With damp earth and crusty leather aromas, thi...   \n",
       "1         1      US  A really nice sparkling wine from Gloria Ferre...   \n",
       "2         2      US  Mostly Cabernet, with a bit of Merlot and Malb...   \n",
       "\n",
       "                  designation  points  price        province  \\\n",
       "0  RSV 1601 El Duque de Lerma      88   75.0  Northern Spain   \n",
       "1                   Brut Rosé      91   42.0      California   \n",
       "2                    Electrum      90   65.0      Washington   \n",
       "\n",
       "           region_1         region_2        taster_name taster_twitter_handle  \\\n",
       "0  Ribera del Duero              NaN  Michael Schachner           @wineschach   \n",
       "1          Carneros      Napa-Sonoma                NaN                   NaN   \n",
       "2      Red Mountain  Columbia Valley       Paul Gregutt           @paulgwine    \n",
       "\n",
       "                                               title             variety  \\\n",
       "0  Real Sitio de Ventosilla 2004 RSV 1601 El Duqu...         Tempranillo   \n",
       "1  Gloria Ferrer 2007 Brut Rosé Sparkling (Carneros)     Sparkling Blend   \n",
       "2  Obelisco Estate 2009 Electrum Cabernet Sauvign...  Cabernet Sauvignon   \n",
       "\n",
       "                     winery  \n",
       "0  Real Sitio de Ventosilla  \n",
       "1             Gloria Ferrer  \n",
       "2           Obelisco Estate  "
      ]
     },
     "execution_count": 7,
     "metadata": {},
     "output_type": "execute_result"
    }
   ],
   "source": [
    "df.head(3)"
   ]
  },
  {
   "cell_type": "code",
   "execution_count": 8,
   "metadata": {},
   "outputs": [],
   "source": [
    "df['country/province'] = df['country'] + ' - ' + df['province']"
   ]
  },
  {
   "cell_type": "markdown",
   "metadata": {},
   "source": [
    "As points seem to increase, so too does the price steadily increase (except where the trend does not seem to continue equal to and greater than 97 points)"
   ]
  },
  {
   "cell_type": "code",
   "execution_count": 9,
   "metadata": {},
   "outputs": [
    {
     "data": {
      "text/plain": [
       "<matplotlib.collections.PathCollection at 0x1ec1e4b1208>"
      ]
     },
     "execution_count": 9,
     "metadata": {},
     "output_type": "execute_result"
    },
    {
     "data": {
      "image/png": "[encoded data removed]",
      "text/plain": [
       "<Figure size 432x288 with 1 Axes>"
      ]
     },
     "metadata": {
      "needs_background": "light"
     },
     "output_type": "display_data"
    }
   ],
   "source": [
    "plt.scatter(df['points'], df['price'])"
   ]
  },
  {
   "cell_type": "code",
   "execution_count": null,
   "metadata": {},
   "outputs": [],
   "source": []
  },
  {
   "cell_type": "markdown",
   "metadata": {},
   "source": [
    "## Part 2"
   ]
  },
  {
   "cell_type": "markdown",
   "metadata": {},
   "source": [
    "#### Below are two sets of functions that can be used to calculate the similarity of two strings, based on the following articles: \n",
    "•\thttps://www.freecodecamp.org/news/how-to-process-textual-data-using-tf-idf-in-python-cd2bbc0a94a3/\n",
    "\n",
    "•\thttps://towardsdatascience.com/overview-of-text-similarity-metrics-3397c4601f50\n"
   ]
  },
  {
   "cell_type": "code",
   "execution_count": 10,
   "metadata": {},
   "outputs": [],
   "source": [
    "# Jaccard Similarity\n",
    "\n",
    "def get_jaccard_sim(str1, str2): \n",
    "    # this function computes the jaccard similarity between two strings\n",
    "    # str1 and str2\n",
    "    a = set(str1.split()) \n",
    "    b = set(str2.split())\n",
    "    c = a.intersection(b)\n",
    "    return float(len(c)) / (len(a) + len(b) - len(c))"
   ]
  },
  {
   "cell_type": "markdown",
   "metadata": {},
   "source": [
    "#### You may choose to use either of the two methods above or engineer your own to prototype a recommender system to select the top 5 most similar wines to the client’s favorite wine, indicated below. Show your work and please list any assumptions you make. You may use any attributes within the data to facilitate recommendations. "
   ]
  },
  {
   "cell_type": "code",
   "execution_count": 11,
   "metadata": {},
   "outputs": [
    {
     "data": {
      "text/plain": [
       "wine_idx                                                                37\n",
       "country                                                             France\n",
       "description              Firm and structured, this still shows much of ...\n",
       "designation                                                            NaN\n",
       "points                                                                  94\n",
       "price                                                                34.34\n",
       "province                                                          Burgundy\n",
       "region_1                                                  Grands-Echezeaux\n",
       "region_2                                                               NaN\n",
       "taster_name                                                     Roger Voss\n",
       "taster_twitter_handle                                           @vossroger\n",
       "title                            Henri de Villamont 2014  Grands-Echezeaux\n",
       "variety                                                         Pinot Noir\n",
       "winery                                                  Henri de Villamont\n",
       "country/province                                         France - Burgundy\n",
       "Name: 37, dtype: object"
      ]
     },
     "execution_count": 11,
     "metadata": {},
     "output_type": "execute_result"
    }
   ],
   "source": [
    "favorite = df.iloc[37]\n",
    "favorite"
   ]
  },
  {
   "cell_type": "code",
   "execution_count": 13,
   "metadata": {},
   "outputs": [],
   "source": [
    "# the client's favorite wine and its description\n",
    "\n",
    "favorite = df.iloc[37]\n",
    "favorite_wine_description = df.iloc[37, 2]\n",
    "favorite_wine_country_providence = df.iloc[37, 14]\n",
    "favorite_wine_variety = df.iloc[37, 12]\n",
    "favorite_wine_price = df.iloc[37, 5]"
   ]
  },
  {
   "cell_type": "code",
   "execution_count": 14,
   "metadata": {},
   "outputs": [],
   "source": [
    "# Jaccard Similarity\n",
    "\n",
    "wine_similarity_df = pd.DataFrame(columns=['wine_idx',\n",
    "                                           'description_similarity_score',\n",
    "                                           'country_providence_similarity_score',\n",
    "                                           'variety_similarity_score',\n",
    "                                           'price_similarity_score'])\n",
    "\n",
    "for x in range(1000):\n",
    "    wine_similarity_df.loc[x] = [int(x),\n",
    "                                 get_jaccard_sim(favorite_wine_description, df.iloc[x, 2]),\n",
    "                                 get_jaccard_sim(favorite_wine_country_providence, df.iloc[x, 14]),\n",
    "                                 get_jaccard_sim(favorite_wine_variety, df.iloc[x, 12]),\n",
    "                                 (favorite_wine_price - df.iloc[x, 5]) / favorite_wine_price]"
   ]
  },
  {
   "cell_type": "code",
   "execution_count": 15,
   "metadata": {},
   "outputs": [],
   "source": [
    "wine_similarity_df['score_sum'] = wine_similarity_df['description_similarity_score'] + \\\n",
    "                                  wine_similarity_df['country_providence_similarity_score'] + \\\n",
    "                                  wine_similarity_df['variety_similarity_score'] + \\\n",
    "                                  wine_similarity_df['price_similarity_score']"
   ]
  },
  {
   "cell_type": "code",
   "execution_count": 16,
   "metadata": {},
   "outputs": [
    {
     "data": {
      "text/html": [
       "<div>\n",
       "<style scoped>\n",
       "    .dataframe tbody tr th:only-of-type {\n",
       "        vertical-align: middle;\n",
       "    }\n",
       "\n",
       "    .dataframe tbody tr th {\n",
       "        vertical-align: top;\n",
       "    }\n",
       "\n",
       "    .dataframe thead th {\n",
       "        text-align: right;\n",
       "    }\n",
       "</style>\n",
       "<table border=\"1\" class=\"dataframe\">\n",
       "  <thead>\n",
       "    <tr style=\"text-align: right;\">\n",
       "      <th></th>\n",
       "      <th>wine_idx</th>\n",
       "      <th>description_similarity_score</th>\n",
       "      <th>country_providence_similarity_score</th>\n",
       "      <th>variety_similarity_score</th>\n",
       "      <th>price_similarity_score</th>\n",
       "      <th>score_sum</th>\n",
       "    </tr>\n",
       "  </thead>\n",
       "  <tbody>\n",
       "    <tr>\n",
       "      <td>0</td>\n",
       "      <td>0.0</td>\n",
       "      <td>0.156250</td>\n",
       "      <td>0.2</td>\n",
       "      <td>0.0</td>\n",
       "      <td>-1.184042</td>\n",
       "      <td>-0.827792</td>\n",
       "    </tr>\n",
       "    <tr>\n",
       "      <td>1</td>\n",
       "      <td>1.0</td>\n",
       "      <td>0.093750</td>\n",
       "      <td>0.2</td>\n",
       "      <td>0.0</td>\n",
       "      <td>-0.223063</td>\n",
       "      <td>0.070687</td>\n",
       "    </tr>\n",
       "    <tr>\n",
       "      <td>2</td>\n",
       "      <td>2.0</td>\n",
       "      <td>0.118644</td>\n",
       "      <td>0.2</td>\n",
       "      <td>0.0</td>\n",
       "      <td>-0.892836</td>\n",
       "      <td>-0.574192</td>\n",
       "    </tr>\n",
       "    <tr>\n",
       "      <td>3</td>\n",
       "      <td>3.0</td>\n",
       "      <td>0.121212</td>\n",
       "      <td>0.2</td>\n",
       "      <td>0.0</td>\n",
       "      <td>-1.620850</td>\n",
       "      <td>-1.299638</td>\n",
       "    </tr>\n",
       "    <tr>\n",
       "      <td>4</td>\n",
       "      <td>4.0</td>\n",
       "      <td>0.070588</td>\n",
       "      <td>0.2</td>\n",
       "      <td>0.0</td>\n",
       "      <td>-1.038439</td>\n",
       "      <td>-0.767851</td>\n",
       "    </tr>\n",
       "    <tr>\n",
       "      <td>...</td>\n",
       "      <td>...</td>\n",
       "      <td>...</td>\n",
       "      <td>...</td>\n",
       "      <td>...</td>\n",
       "      <td>...</td>\n",
       "      <td>...</td>\n",
       "    </tr>\n",
       "    <tr>\n",
       "      <td>995</td>\n",
       "      <td>995.0</td>\n",
       "      <td>0.080645</td>\n",
       "      <td>0.2</td>\n",
       "      <td>1.0</td>\n",
       "      <td>-1.184042</td>\n",
       "      <td>0.096603</td>\n",
       "    </tr>\n",
       "    <tr>\n",
       "      <td>996</td>\n",
       "      <td>996.0</td>\n",
       "      <td>0.120690</td>\n",
       "      <td>0.2</td>\n",
       "      <td>0.0</td>\n",
       "      <td>0.271986</td>\n",
       "      <td>0.592676</td>\n",
       "    </tr>\n",
       "    <tr>\n",
       "      <td>997</td>\n",
       "      <td>997.0</td>\n",
       "      <td>0.071429</td>\n",
       "      <td>0.2</td>\n",
       "      <td>0.0</td>\n",
       "      <td>0.504950</td>\n",
       "      <td>0.776379</td>\n",
       "    </tr>\n",
       "    <tr>\n",
       "      <td>998</td>\n",
       "      <td>998.0</td>\n",
       "      <td>0.089552</td>\n",
       "      <td>0.4</td>\n",
       "      <td>0.0</td>\n",
       "      <td>-0.077461</td>\n",
       "      <td>0.412092</td>\n",
       "    </tr>\n",
       "    <tr>\n",
       "      <td>999</td>\n",
       "      <td>999.0</td>\n",
       "      <td>0.132353</td>\n",
       "      <td>0.5</td>\n",
       "      <td>0.0</td>\n",
       "      <td>0.000000</td>\n",
       "      <td>0.632353</td>\n",
       "    </tr>\n",
       "  </tbody>\n",
       "</table>\n",
       "<p>1000 rows × 6 columns</p>\n",
       "</div>"
      ],
      "text/plain": [
       "     wine_idx  description_similarity_score  \\\n",
       "0         0.0                      0.156250   \n",
       "1         1.0                      0.093750   \n",
       "2         2.0                      0.118644   \n",
       "3         3.0                      0.121212   \n",
       "4         4.0                      0.070588   \n",
       "..        ...                           ...   \n",
       "995     995.0                      0.080645   \n",
       "996     996.0                      0.120690   \n",
       "997     997.0                      0.071429   \n",
       "998     998.0                      0.089552   \n",
       "999     999.0                      0.132353   \n",
       "\n",
       "     country_providence_similarity_score  variety_similarity_score  \\\n",
       "0                                    0.2                       0.0   \n",
       "1                                    0.2                       0.0   \n",
       "2                                    0.2                       0.0   \n",
       "3                                    0.2                       0.0   \n",
       "4                                    0.2                       0.0   \n",
       "..                                   ...                       ...   \n",
       "995                                  0.2                       1.0   \n",
       "996                                  0.2                       0.0   \n",
       "997                                  0.2                       0.0   \n",
       "998                                  0.4                       0.0   \n",
       "999                                  0.5                       0.0   \n",
       "\n",
       "     price_similarity_score  score_sum  \n",
       "0                 -1.184042  -0.827792  \n",
       "1                 -0.223063   0.070687  \n",
       "2                 -0.892836  -0.574192  \n",
       "3                 -1.620850  -1.299638  \n",
       "4                 -1.038439  -0.767851  \n",
       "..                      ...        ...  \n",
       "995               -1.184042   0.096603  \n",
       "996                0.271986   0.592676  \n",
       "997                0.504950   0.776379  \n",
       "998               -0.077461   0.412092  \n",
       "999                0.000000   0.632353  \n",
       "\n",
       "[1000 rows x 6 columns]"
      ]
     },
     "execution_count": 16,
     "metadata": {},
     "output_type": "execute_result"
    }
   ],
   "source": [
    "wine_similarity_df"
   ]
  },
  {
   "cell_type": "markdown",
   "metadata": {},
   "source": [
    "The 5 recommended wines would be the wines with index numbers: 201, 867, 430, 661, 982 (in that order)"
   ]
  },
  {
   "cell_type": "code",
   "execution_count": 17,
   "metadata": {},
   "outputs": [
    {
     "data": {
      "text/html": [
       "<div>\n",
       "<style scoped>\n",
       "    .dataframe tbody tr th:only-of-type {\n",
       "        vertical-align: middle;\n",
       "    }\n",
       "\n",
       "    .dataframe tbody tr th {\n",
       "        vertical-align: top;\n",
       "    }\n",
       "\n",
       "    .dataframe thead th {\n",
       "        text-align: right;\n",
       "    }\n",
       "</style>\n",
       "<table border=\"1\" class=\"dataframe\">\n",
       "  <thead>\n",
       "    <tr style=\"text-align: right;\">\n",
       "      <th></th>\n",
       "      <th>score_sum</th>\n",
       "    </tr>\n",
       "  </thead>\n",
       "  <tbody>\n",
       "    <tr>\n",
       "      <td>37</td>\n",
       "      <td>3.000000</td>\n",
       "    </tr>\n",
       "    <tr>\n",
       "      <td>201</td>\n",
       "      <td>2.514363</td>\n",
       "    </tr>\n",
       "    <tr>\n",
       "      <td>867</td>\n",
       "      <td>2.450227</td>\n",
       "    </tr>\n",
       "    <tr>\n",
       "      <td>430</td>\n",
       "      <td>2.147523</td>\n",
       "    </tr>\n",
       "    <tr>\n",
       "      <td>661</td>\n",
       "      <td>2.070175</td>\n",
       "    </tr>\n",
       "    <tr>\n",
       "      <td>982</td>\n",
       "      <td>1.970771</td>\n",
       "    </tr>\n",
       "  </tbody>\n",
       "</table>\n",
       "</div>"
      ],
      "text/plain": [
       "     score_sum\n",
       "37    3.000000\n",
       "201   2.514363\n",
       "867   2.450227\n",
       "430   2.147523\n",
       "661   2.070175\n",
       "982   1.970771"
      ]
     },
     "execution_count": 17,
     "metadata": {},
     "output_type": "execute_result"
    }
   ],
   "source": [
    "recommended_wines = wine_similarity_df[['score_sum']]\n",
    "\n",
    "recommended_wines = recommended_wines.sort_values(by='score_sum', ascending=False)\n",
    "\n",
    "recommended_wines.head(6)"
   ]
  },
  {
   "cell_type": "markdown",
   "metadata": {},
   "source": [
    "## Part 3 \n",
    "\n",
    "#### Client A is on a tight budget and does not want to spend more than $20. She also is interested in expanding her tastes and would like recommendations that do not include Pinot Noirs. Give the top 5 recommendations that meet these criteria. "
   ]
  },
  {
   "cell_type": "code",
   "execution_count": 18,
   "metadata": {},
   "outputs": [],
   "source": [
    "# show work here. Use as many cells as needed\n",
    "\n",
    "df_special_request = df[(df['price'] <= 20) & (df['variety'] != 'Pinot Noir')]"
   ]
  },
  {
   "cell_type": "code",
   "execution_count": 19,
   "metadata": {},
   "outputs": [],
   "source": [
    "# Jaccard Similarity\n",
    "\n",
    "wine_similarity_df = pd.DataFrame(columns=['wine_idx',\n",
    "                                           'description_similarity_score',\n",
    "                                           'country_providence_similarity_score',\n",
    "                                           'variety_similarity_score',\n",
    "                                           'price_similarity_score'])\n",
    "\n",
    "for x in range(1000):\n",
    "    wine_similarity_df.loc[x] = [int(x),\n",
    "                                 get_jaccard_sim(favorite_wine_description, df_special_request.iloc[x, 2]),\n",
    "                                 get_jaccard_sim(favorite_wine_country_providence, df_special_request.iloc[x, 14]),\n",
    "                                 get_jaccard_sim(favorite_wine_variety, df_special_request.iloc[x, 12]),\n",
    "                                 (favorite_wine_price - df_special_request.iloc[x, 5]) / favorite_wine_price]\n",
    "    \n",
    "wine_similarity_df['score_sum'] = wine_similarity_df['description_similarity_score'] + \\\n",
    "                                  wine_similarity_df['country_providence_similarity_score'] + \\\n",
    "                                  wine_similarity_df['variety_similarity_score'] + \\\n",
    "                                  wine_similarity_df['price_similarity_score']"
   ]
  },
  {
   "cell_type": "markdown",
   "metadata": {},
   "source": [
    "The 5 recommended wines would be the wines with index numbers: 142, 201, 601, 134, 228 (in that order)"
   ]
  },
  {
   "cell_type": "code",
   "execution_count": 20,
   "metadata": {},
   "outputs": [
    {
     "data": {
      "text/html": [
       "<div>\n",
       "<style scoped>\n",
       "    .dataframe tbody tr th:only-of-type {\n",
       "        vertical-align: middle;\n",
       "    }\n",
       "\n",
       "    .dataframe tbody tr th {\n",
       "        vertical-align: top;\n",
       "    }\n",
       "\n",
       "    .dataframe thead th {\n",
       "        text-align: right;\n",
       "    }\n",
       "</style>\n",
       "<table border=\"1\" class=\"dataframe\">\n",
       "  <thead>\n",
       "    <tr style=\"text-align: right;\">\n",
       "      <th></th>\n",
       "      <th>score_sum</th>\n",
       "    </tr>\n",
       "  </thead>\n",
       "  <tbody>\n",
       "    <tr>\n",
       "      <td>142</td>\n",
       "      <td>2.147523</td>\n",
       "    </tr>\n",
       "    <tr>\n",
       "      <td>201</td>\n",
       "      <td>1.775553</td>\n",
       "    </tr>\n",
       "    <tr>\n",
       "      <td>601</td>\n",
       "      <td>1.638284</td>\n",
       "    </tr>\n",
       "    <tr>\n",
       "      <td>134</td>\n",
       "      <td>1.610445</td>\n",
       "    </tr>\n",
       "    <tr>\n",
       "      <td>228</td>\n",
       "      <td>1.599407</td>\n",
       "    </tr>\n",
       "  </tbody>\n",
       "</table>\n",
       "</div>"
      ],
      "text/plain": [
       "     score_sum\n",
       "142   2.147523\n",
       "201   1.775553\n",
       "601   1.638284\n",
       "134   1.610445\n",
       "228   1.599407"
      ]
     },
     "execution_count": 20,
     "metadata": {},
     "output_type": "execute_result"
    }
   ],
   "source": [
    "recommended_wines = wine_similarity_df[['score_sum']]\n",
    "\n",
    "recommended_wines = recommended_wines.sort_values(by='score_sum', ascending=False)\n",
    "\n",
    "recommended_wines.head(5)"
   ]
  },
  {
   "cell_type": "markdown",
   "metadata": {},
   "source": [
    "## Part 4 \n",
    "\n",
    "#### Assess the performance of your recommender. Is it providing reasonable recommendations? Why or why not?"
   ]
  },
  {
   "cell_type": "markdown",
   "metadata": {},
   "source": [
    "I believe that my recommender is providing reasonable results given that it takes into account a wine's variety, its description, its country/providence, and its price prior to providing a recommendation."
   ]
  },
  {
   "cell_type": "code",
   "execution_count": null,
   "metadata": {},
   "outputs": [],
   "source": []
  }
 ],
 "metadata": {
  "kernelspec": {
   "display_name": "Python 3",
   "language": "python",
   "name": "python3"
  },
  "language_info": {
   "codemirror_mode": {
    "name": "ipython",
    "version": 3
   },
   "file_extension": ".py",
   "mimetype": "text/x-python",
   "name": "python",
   "nbconvert_exporter": "python",
   "pygments_lexer": "ipython3",
   "version": "3.7.4"
  }
 },
 "nbformat": 4,
 "nbformat_minor": 2
}
